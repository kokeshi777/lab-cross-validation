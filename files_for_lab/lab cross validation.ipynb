{
 "cells": [
  {
   "cell_type": "code",
   "execution_count": 1,
   "metadata": {},
   "outputs": [],
   "source": [
    "import pandas as pd\n",
    "import numpy as np\n",
    "import matplotlib.pyplot as plt\n",
    "from sklearn.datasets import load_boston\n",
    "from sklearn.datasets import load_iris\n",
    "from sklearn.tree import DecisionTreeRegressor\n",
    "from sklearn.tree import DecisionTreeClassifier\n",
    "from sklearn.model_selection import train_test_split\n",
    "from sklearn.tree import plot_tree"
   ]
  },
  {
   "cell_type": "code",
   "execution_count": 78,
   "metadata": {},
   "outputs": [],
   "source": [
    "data=pd.read_csv('Customer-Churn.csv')"
   ]
  },
  {
   "cell_type": "code",
   "execution_count": 79,
   "metadata": {},
   "outputs": [],
   "source": [
    "data.TotalCharges = pd.to_numeric(data.TotalCharges,errors='coerce')"
   ]
  },
  {
   "cell_type": "code",
   "execution_count": 80,
   "metadata": {},
   "outputs": [
    {
     "data": {
      "text/plain": [
       "0         29.85\n",
       "1       1889.50\n",
       "2        108.15\n",
       "3       1840.75\n",
       "4        151.65\n",
       "         ...   \n",
       "7038    1990.50\n",
       "7039    7362.90\n",
       "7040     346.45\n",
       "7041     306.60\n",
       "7042    6844.50\n",
       "Name: TotalCharges, Length: 7043, dtype: float64"
      ]
     },
     "execution_count": 80,
     "metadata": {},
     "output_type": "execute_result"
    }
   ],
   "source": [
    "data.TotalCharges"
   ]
  },
  {
   "cell_type": "code",
   "execution_count": 81,
   "metadata": {},
   "outputs": [],
   "source": [
    "data=data.dropna()"
   ]
  },
  {
   "cell_type": "code",
   "execution_count": 82,
   "metadata": {},
   "outputs": [],
   "source": [
    "X = data.drop(['Churn'], axis = 1)\n",
    "y = data['Churn']"
   ]
  },
  {
   "cell_type": "code",
   "execution_count": 83,
   "metadata": {},
   "outputs": [],
   "source": [
    "num=X.select_dtypes(include=np.number)\n",
    "cat=X.select_dtypes(include=np.object)"
   ]
  },
  {
   "cell_type": "code",
   "execution_count": 84,
   "metadata": {},
   "outputs": [
    {
     "data": {
      "text/html": [
       "<div>\n",
       "<style scoped>\n",
       "    .dataframe tbody tr th:only-of-type {\n",
       "        vertical-align: middle;\n",
       "    }\n",
       "\n",
       "    .dataframe tbody tr th {\n",
       "        vertical-align: top;\n",
       "    }\n",
       "\n",
       "    .dataframe thead th {\n",
       "        text-align: right;\n",
       "    }\n",
       "</style>\n",
       "<table border=\"1\" class=\"dataframe\">\n",
       "  <thead>\n",
       "    <tr style=\"text-align: right;\">\n",
       "      <th></th>\n",
       "      <th>SeniorCitizen</th>\n",
       "      <th>tenure</th>\n",
       "      <th>MonthlyCharges</th>\n",
       "      <th>TotalCharges</th>\n",
       "    </tr>\n",
       "  </thead>\n",
       "  <tbody>\n",
       "    <tr>\n",
       "      <th>0</th>\n",
       "      <td>0</td>\n",
       "      <td>1</td>\n",
       "      <td>29.85</td>\n",
       "      <td>29.85</td>\n",
       "    </tr>\n",
       "    <tr>\n",
       "      <th>1</th>\n",
       "      <td>0</td>\n",
       "      <td>34</td>\n",
       "      <td>56.95</td>\n",
       "      <td>1889.50</td>\n",
       "    </tr>\n",
       "    <tr>\n",
       "      <th>2</th>\n",
       "      <td>0</td>\n",
       "      <td>2</td>\n",
       "      <td>53.85</td>\n",
       "      <td>108.15</td>\n",
       "    </tr>\n",
       "    <tr>\n",
       "      <th>3</th>\n",
       "      <td>0</td>\n",
       "      <td>45</td>\n",
       "      <td>42.30</td>\n",
       "      <td>1840.75</td>\n",
       "    </tr>\n",
       "    <tr>\n",
       "      <th>4</th>\n",
       "      <td>0</td>\n",
       "      <td>2</td>\n",
       "      <td>70.70</td>\n",
       "      <td>151.65</td>\n",
       "    </tr>\n",
       "    <tr>\n",
       "      <th>...</th>\n",
       "      <td>...</td>\n",
       "      <td>...</td>\n",
       "      <td>...</td>\n",
       "      <td>...</td>\n",
       "    </tr>\n",
       "    <tr>\n",
       "      <th>7038</th>\n",
       "      <td>0</td>\n",
       "      <td>24</td>\n",
       "      <td>84.80</td>\n",
       "      <td>1990.50</td>\n",
       "    </tr>\n",
       "    <tr>\n",
       "      <th>7039</th>\n",
       "      <td>0</td>\n",
       "      <td>72</td>\n",
       "      <td>103.20</td>\n",
       "      <td>7362.90</td>\n",
       "    </tr>\n",
       "    <tr>\n",
       "      <th>7040</th>\n",
       "      <td>0</td>\n",
       "      <td>11</td>\n",
       "      <td>29.60</td>\n",
       "      <td>346.45</td>\n",
       "    </tr>\n",
       "    <tr>\n",
       "      <th>7041</th>\n",
       "      <td>1</td>\n",
       "      <td>4</td>\n",
       "      <td>74.40</td>\n",
       "      <td>306.60</td>\n",
       "    </tr>\n",
       "    <tr>\n",
       "      <th>7042</th>\n",
       "      <td>0</td>\n",
       "      <td>66</td>\n",
       "      <td>105.65</td>\n",
       "      <td>6844.50</td>\n",
       "    </tr>\n",
       "  </tbody>\n",
       "</table>\n",
       "<p>7032 rows × 4 columns</p>\n",
       "</div>"
      ],
      "text/plain": [
       "      SeniorCitizen  tenure  MonthlyCharges  TotalCharges\n",
       "0                 0       1           29.85         29.85\n",
       "1                 0      34           56.95       1889.50\n",
       "2                 0       2           53.85        108.15\n",
       "3                 0      45           42.30       1840.75\n",
       "4                 0       2           70.70        151.65\n",
       "...             ...     ...             ...           ...\n",
       "7038              0      24           84.80       1990.50\n",
       "7039              0      72          103.20       7362.90\n",
       "7040              0      11           29.60        346.45\n",
       "7041              1       4           74.40        306.60\n",
       "7042              0      66          105.65       6844.50\n",
       "\n",
       "[7032 rows x 4 columns]"
      ]
     },
     "execution_count": 84,
     "metadata": {},
     "output_type": "execute_result"
    }
   ],
   "source": [
    "num"
   ]
  },
  {
   "cell_type": "code",
   "execution_count": 85,
   "metadata": {},
   "outputs": [],
   "source": [
    "cat=pd.get_dummies(cat)"
   ]
  },
  {
   "cell_type": "code",
   "execution_count": 86,
   "metadata": {},
   "outputs": [],
   "source": [
    "X=pd.concat([cat,num],axis=1)"
   ]
  },
  {
   "cell_type": "code",
   "execution_count": 88,
   "metadata": {},
   "outputs": [
    {
     "data": {
      "text/plain": [
       "(7032, 33)"
      ]
     },
     "execution_count": 88,
     "metadata": {},
     "output_type": "execute_result"
    }
   ],
   "source": [
    "X.shape"
   ]
  },
  {
   "cell_type": "code",
   "execution_count": 89,
   "metadata": {},
   "outputs": [
    {
     "data": {
      "text/plain": [
       "(7032,)"
      ]
     },
     "execution_count": 89,
     "metadata": {},
     "output_type": "execute_result"
    }
   ],
   "source": [
    "y.shape"
   ]
  },
  {
   "cell_type": "code",
   "execution_count": 76,
   "metadata": {},
   "outputs": [
    {
     "data": {
      "text/plain": [
       "gender_Female                           0\n",
       "gender_Male                             0\n",
       "Partner_No                              0\n",
       "Partner_Yes                             0\n",
       "Dependents_No                           0\n",
       "Dependents_Yes                          0\n",
       "PhoneService_No                         0\n",
       "PhoneService_Yes                        0\n",
       "OnlineSecurity_No                       0\n",
       "OnlineSecurity_No internet service      0\n",
       "OnlineSecurity_Yes                      0\n",
       "OnlineBackup_No                         0\n",
       "OnlineBackup_No internet service        0\n",
       "OnlineBackup_Yes                        0\n",
       "DeviceProtection_No                     0\n",
       "DeviceProtection_No internet service    0\n",
       "DeviceProtection_Yes                    0\n",
       "TechSupport_No                          0\n",
       "TechSupport_No internet service         0\n",
       "TechSupport_Yes                         0\n",
       "StreamingTV_No                          0\n",
       "StreamingTV_No internet service         0\n",
       "StreamingTV_Yes                         0\n",
       "StreamingMovies_No                      0\n",
       "StreamingMovies_No internet service     0\n",
       "StreamingMovies_Yes                     0\n",
       "Contract_Month-to-month                 0\n",
       "Contract_One year                       0\n",
       "Contract_Two year                       0\n",
       "SeniorCitizen                           0\n",
       "tenure                                  0\n",
       "MonthlyCharges                          0\n",
       "TotalCharges                            0\n",
       "dtype: int64"
      ]
     },
     "execution_count": 76,
     "metadata": {},
     "output_type": "execute_result"
    }
   ],
   "source": [
    "X.isna().sum()"
   ]
  },
  {
   "cell_type": "code",
   "execution_count": 124,
   "metadata": {},
   "outputs": [],
   "source": [
    "def classification_model(X,y,tomek,balancer,scaler,neighbors):\n",
    "    import matplotlib.pyplot as plt\n",
    "    from sklearn.model_selection import train_test_split\n",
    "    from sklearn.metrics import confusion_matrix,plot_confusion_matrix, cohen_kappa_score, accuracy_score, classification_report, fbeta_score, make_scorer\n",
    "    from sklearn.preprocessing import PowerTransformer\n",
    "    from sklearn.model_selection import GridSearchCV\n",
    "    from sklearn.svm import LinearSVC\n",
    "    from sklearn.preprocessing import StandardScaler, MinMaxScaler, Normalizer\n",
    "    from sklearn.neighbors import KNeighborsClassifier\n",
    "    from sklearn.ensemble import RandomForestClassifier, AdaBoostClassifier\n",
    "    from sklearn import svm\n",
    "    from imblearn.under_sampling import TomekLinks, RandomUnderSampler\n",
    "    from imblearn.over_sampling import RandomOverSampler, SMOTE\n",
    "    from sklearn.metrics import fbeta_score, make_scorer\n",
    "    from sklearn.linear_model import LogisticRegression\n",
    "    from sklearn.tree import DecisionTreeClassifier\n",
    "\n",
    "    \n",
    "    tl = TomekLinks('majority')\n",
    "    rus = RandomUnderSampler()\n",
    "    Ros = RandomOverSampler()\n",
    "    smote = SMOTE()\n",
    "    ftwo_scorer = make_scorer(cohen_kappa_score)\n",
    "    \n",
    "#Split\n",
    "    X_train, X_test, y_train, y_test = train_test_split(X, y, test_size=0.3, random_state=100)\n",
    "    \n",
    "#Scaler\n",
    "    if scaler==\"StandardScaler\":\n",
    "        scaler_x = StandardScaler().fit(X_train)\n",
    "        X_train_scaled = pd.DataFrame(scaler_x.transform(X_train),columns=X.columns)\n",
    "        X_test_scaled = pd.DataFrame(scaler_x.transform(X_test),columns=X.columns)\n",
    "    elif scaler==\"MinMax\":\n",
    "        scaler_x = MinMaxScaler().fit(X_train)\n",
    "        X_train_scaled = pd.DataFrame(scaler_x.transform(X_train),columns=X.columns)\n",
    "        X_test_scaled = pd.DataFrame(scaler_x.transform(X_test),columns=X.columns)\n",
    "    elif scaler==\"Normalizer\":\n",
    "        scaler_x = Normalizer().fit(X_train)\n",
    "        X_train_scaled = pd.DataFrame(scaler_x.transform(X_train),columns=X.columns)\n",
    "        X_test_scaled = pd.DataFrame(scaler_x.transform(X_test),columns=X.columns)\n",
    "    elif scaler==\"power\":\n",
    "        pt = PowerTransformer()\n",
    "        powertrain=pt.fit(X_train)\n",
    "        powertrainl=(pt.lambdas_)\n",
    "        powertrain=pt.transform(X_train)\n",
    "        X_train_scaled=pd.DataFrame(powertrain,columns=X_train.columns)\n",
    "        powertest=pt.fit(X_test)\n",
    "        powerltest=(pt.lambdas_)\n",
    "        powertest=pt.transform(X_test)\n",
    "        X_test_scaled=pd.DataFrame(powertest,columns=X_test.columns)\n",
    "    elif scaler==\"None\":\n",
    "        X_train_scaled=X_train\n",
    "        X_test_scaled=X_test\n",
    "        \n",
    "#sample balance\n",
    "    if tomek==\"tomek applied\":\n",
    "        X_train_scaled_tom, y_train_scaled_tom=tl.fit_sample(X_train_scaled, y_train)\n",
    "    elif tomek==\"tomek not applied\":\n",
    "        X_train_scaled_tom,y_train_scaled_tom=X_train_scaled,y_train\n",
    "    \n",
    "    if balancer==\"smote sample\":\n",
    "        X_train_scaled_bal, y_train_scaled_bal = smote.fit_sample(X_train_scaled_tom, y_train_scaled_tom)\n",
    "    elif balancer==\"over sample\":\n",
    "        X_train_scaled_bal, y_train_scaled_bal = Ros.fit_sample(X_train_scaled_tom, y_train_scaled_tom)\n",
    "    elif balancer==\"under sample\":\n",
    "        X_train_scaled_bal, y_train_scaled_bal = rus.fit_sample(X_train_scaled_tom, y_train_scaled_tom)\n",
    "    elif balancer==\"unbalanced\":\n",
    "        X_train_scaled_bal,y_train_scaled_bal=X_train_scaled_tom,y_train_scaled_tom\n",
    "        \n",
    "#models\n",
    "    #CLass\n",
    "    log_ = LogisticRegression(random_state=0, solver='lbfgs', multi_class='ovr', class_weight = {'Yes': 0.2, 'No': 0.8}, C= 1)\n",
    "    log_classification = log_.fit(X_train_scaled_bal, y_train_scaled_bal)\n",
    "    log_predictions = log_classification.predict(X_test_scaled)\n",
    "    #grid = GridSearchCV(LogisticRegression(), param_grid={'solver': ['lbfgs', 'saga'], 'C': [1,0.1,0.001], 'class_weight':[{'Yes': 0.2, 'No': 0.8},'balanced',None,{'Yes': 0.1, 'No': 1.6}]},scoring=ftwo_scorer, n_jobs =2)\n",
    "    #grid.fit(X_train_scaled_bal, y_train_scaled_bal)\n",
    "    #print(grid.best_params_,grid.best_score_,grid.best_estimator_)\n",
    "    \n",
    "\n",
    "  \n",
    "    #Forest\n",
    "    clf = DecisionTreeClassifier()\n",
    "    clf_classification = clf.fit(X_train_scaled_bal, y_train_scaled_bal)\n",
    "    clf_predictions = clf.predict(X_test_scaled)\n",
    "    #gridf = GridSearchCV(RandomForestClassifier(), param_grid={},scoring=ftwo_scorer, n_jobs =2)\n",
    "    #gridf.fit(X_train_scaled_bal, y_train_scaled_bal)\n",
    "    #print(gridf.best_params_,gridf.best_score_,gridf.best_estimator_)\n",
    "\n",
    "\n",
    "    \n",
    "#printing results\n",
    "    print(\"| Logistic Regression Model Results\")\n",
    "    print(\"With:: - Sample balancing: \", tomek,\",\", balancer,\", - Scaler: \", scaler)\n",
    "    print(\"The accuracy of the model on test set is: %4.2f \" % accuracy_score(y_test, log_predictions))\n",
    "    print(\"The Kappa of your model is: %4.2f\" % (cohen_kappa_score(y_test, log_predictions)))\n",
    "    print(cohen_kappa_score)\n",
    "    print(confusion_matrix(y_test, log_predictions))\n",
    "    plot_confusion_matrix(log_classification, X_test_scaled, y_test)  # doctest: +SKIP\n",
    "    plt.show()\n",
    "\n",
    "  \n",
    "\n",
    "    print(\"| Decision Tree Classifier Results\")\n",
    "    print(\"With:: - Sample balancing: \", tomek,\",\", balancer,\", - Scaler: \", scaler)\n",
    "    print(\"The accuracy of the model on test set is: %4.2f \" % accuracy_score(y_test, clf_predictions))\n",
    "    print(\"The Kappa of your model is: %4.2f\" % (cohen_kappa_score(y_test, clf_predictions)))\n",
    "    print(confusion_matrix(y_test, clf_predictions))\n",
    "    plot_confusion_matrix(clf_classification, X_test_scaled, y_test)  # doctest: +SKIP\n",
    "    plt.show()\n",
    "\n",
    "    \n",
    "\n",
    "    \n",
    "    return X_train_scaled_bal,y_train_scaled_bal"
   ]
  },
  {
   "cell_type": "code",
   "execution_count": 123,
   "metadata": {},
   "outputs": [
    {
     "name": "stderr",
     "output_type": "stream",
     "text": [
      "C:\\Users\\Nickolaus Smith\\anaconda3\\lib\\site-packages\\imblearn\\utils\\_validation.py:635: FutureWarning: Pass sampling_strategy=majority as keyword args. From version 0.9 passing these as positional arguments will result in an error\n",
      "  warnings.warn(\"Pass {} as keyword args. From version 0.9 \"\n",
      "C:\\Users\\Nickolaus Smith\\anaconda3\\lib\\site-packages\\sklearn\\linear_model\\_logistic.py:762: ConvergenceWarning: lbfgs failed to converge (status=1):\n",
      "STOP: TOTAL NO. of ITERATIONS REACHED LIMIT.\n",
      "\n",
      "Increase the number of iterations (max_iter) or scale the data as shown in:\n",
      "    https://scikit-learn.org/stable/modules/preprocessing.html\n",
      "Please also refer to the documentation for alternative solver options:\n",
      "    https://scikit-learn.org/stable/modules/linear_model.html#logistic-regression\n",
      "  n_iter_i = _check_optimize_result(\n"
     ]
    },
    {
     "name": "stdout",
     "output_type": "stream",
     "text": [
      "| Logistic Regression Model Results\n",
      "With:: - Sample balancing:  tomek not applied , smote sample , - Scaler:  None\n",
      "The accuracy of the model on test set is: 0.77 \n",
      "The Kappa of your model is: 0.29\n",
      "<function cohen_kappa_score at 0x0000010DAF256040>\n",
      "[[1456   72]\n",
      " [ 415  167]]\n"
     ]
    },
    {
     "data": {
      "image/png": "[encoded data removed]",
      "text/plain": [
       "<Figure size 432x288 with 2 Axes>"
      ]
     },
     "metadata": {
      "needs_background": "light"
     },
     "output_type": "display_data"
    },
    {
     "name": "stdout",
     "output_type": "stream",
     "text": [
      "| Random Forest Classifier Results\n",
      "With:: - Sample balancing:  tomek not applied , smote sample , - Scaler:  None\n",
      "The accuracy of the model on test set is: 0.71 \n",
      "The Kappa of your model is: 0.27\n",
      "[[1234  294]\n",
      " [ 313  269]]\n"
     ]
    },
    {
     "data": {
      "image/png": "[encoded data removed]",
      "text/plain": [
       "<Figure size 432x288 with 2 Axes>"
      ]
     },
     "metadata": {
      "needs_background": "light"
     },
     "output_type": "display_data"
    }
   ],
   "source": [
    "X_train_scaled_bal,y_train_scaled_bal=classification_model(X,y,\"tomek not applied\",\"smote sample\",\"None\",2)"
   ]
  },
  {
   "cell_type": "code",
   "execution_count": 135,
   "metadata": {},
   "outputs": [
    {
     "name": "stderr",
     "output_type": "stream",
     "text": [
      "C:\\Users\\Nickolaus Smith\\anaconda3\\lib\\site-packages\\imblearn\\utils\\_validation.py:635: FutureWarning: Pass sampling_strategy=majority as keyword args. From version 0.9 passing these as positional arguments will result in an error\n",
      "  warnings.warn(\"Pass {} as keyword args. From version 0.9 \"\n"
     ]
    },
    {
     "name": "stdout",
     "output_type": "stream",
     "text": [
      "| Logistic Regression Model Results\n",
      "With:: - Sample balancing:  tomek applied , unbalanced , - Scaler:  None\n",
      "The accuracy of the model on test set is: 0.75 \n",
      "The Kappa of your model is: 0.15\n",
      "<function cohen_kappa_score at 0x0000010DAF256040>\n",
      "[[1500   28]\n",
      " [ 507   75]]\n"
     ]
    },
    {
     "data": {
      "image/png": "[encoded data removed]",
      "text/plain": [
       "<Figure size 432x288 with 2 Axes>"
      ]
     },
     "metadata": {
      "needs_background": "light"
     },
     "output_type": "display_data"
    },
    {
     "name": "stdout",
     "output_type": "stream",
     "text": [
      "| Decision Tree Classifier Results\n",
      "With:: - Sample balancing:  tomek applied , unbalanced , - Scaler:  None\n",
      "The accuracy of the model on test set is: 0.72 \n",
      "The Kappa of your model is: 0.31\n",
      "[[1205  323]\n",
      " [ 273  309]]\n"
     ]
    },
    {
     "data": {
      "image/png": "[encoded data removed]",
      "text/plain": [
       "<Figure size 432x288 with 2 Axes>"
      ]
     },
     "metadata": {
      "needs_background": "light"
     },
     "output_type": "display_data"
    }
   ],
   "source": [
    "X_train_scaled_bal2,y_train_scaled_bal2=classification_model(X,y,\"tomek applied\",\"unbalanced\",\"None\",2)"
   ]
  },
  {
   "cell_type": "code",
   "execution_count": 111,
   "metadata": {},
   "outputs": [
    {
     "name": "stderr",
     "output_type": "stream",
     "text": [
      "C:\\Users\\Nickolaus Smith\\anaconda3\\lib\\site-packages\\imblearn\\utils\\_validation.py:635: FutureWarning: Pass sampling_strategy=majority as keyword args. From version 0.9 passing these as positional arguments will result in an error\n",
      "  warnings.warn(\"Pass {} as keyword args. From version 0.9 \"\n"
     ]
    },
    {
     "name": "stdout",
     "output_type": "stream",
     "text": [
      "| Logistic Regression Model Results\n",
      "With:: - Sample balancing:  tomek not applied , smote sample , - Scaler:  StandardScaler\n",
      "The accuracy of the model on test set is: 0.79 \n",
      "The Kappa of your model is: 0.42\n",
      "<function cohen_kappa_score at 0x0000010DAF256040>\n",
      "[[1417  111]\n",
      " [ 324  258]]\n"
     ]
    },
    {
     "data": {
      "image/png": "[encoded data removed]",
      "text/plain": [
       "<Figure size 432x288 with 2 Axes>"
      ]
     },
     "metadata": {
      "needs_background": "light"
     },
     "output_type": "display_data"
    },
    {
     "name": "stdout",
     "output_type": "stream",
     "text": [
      "| Random Forest Classifier Results\n",
      "With:: - Sample balancing:  tomek not applied , smote sample , - Scaler:  StandardScaler\n",
      "The accuracy of the model on test set is: 0.75 \n",
      "The Kappa of your model is: 0.40\n",
      "[[1251  277]\n",
      " [ 240  342]]\n"
     ]
    },
    {
     "data": {
      "image/png": "[encoded data removed]",
      "text/plain": [
       "<Figure size 432x288 with 2 Axes>"
      ]
     },
     "metadata": {
      "needs_background": "light"
     },
     "output_type": "display_data"
    }
   ],
   "source": [
    "X_train_scaled_bal3,y_train_scaled_bal3=classification_model(X,y,\"tomek not applied\",\"smote sample\",\"StandardScaler\",2)"
   ]
  },
  {
   "cell_type": "code",
   "execution_count": 127,
   "metadata": {},
   "outputs": [
    {
     "name": "stderr",
     "output_type": "stream",
     "text": [
      "C:\\Users\\Nickolaus Smith\\anaconda3\\lib\\site-packages\\imblearn\\utils\\_validation.py:635: FutureWarning: Pass sampling_strategy=majority as keyword args. From version 0.9 passing these as positional arguments will result in an error\n",
      "  warnings.warn(\"Pass {} as keyword args. From version 0.9 \"\n"
     ]
    },
    {
     "name": "stdout",
     "output_type": "stream",
     "text": [
      "| Logistic Regression Model Results\n",
      "With:: - Sample balancing:  tomek applied , unbalanced , - Scaler:  StandardScaler\n",
      "The accuracy of the model on test set is: 0.75 \n",
      "The Kappa of your model is: 0.16\n",
      "<function cohen_kappa_score at 0x0000010DAF256040>\n",
      "[[1499   29]\n",
      " [ 499   83]]\n"
     ]
    },
    {
     "data": {
      "image/png": "[encoded data removed]",
      "text/plain": [
       "<Figure size 432x288 with 2 Axes>"
      ]
     },
     "metadata": {
      "needs_background": "light"
     },
     "output_type": "display_data"
    },
    {
     "name": "stdout",
     "output_type": "stream",
     "text": [
      "| Decision Tree Classifier Results\n",
      "With:: - Sample balancing:  tomek applied , unbalanced , - Scaler:  StandardScaler\n",
      "The accuracy of the model on test set is: 0.71 \n",
      "The Kappa of your model is: 0.30\n",
      "[[1172  356]\n",
      " [ 260  322]]\n"
     ]
    },
    {
     "data": {
      "image/png": "[encoded data removed]",
      "text/plain": [
       "<Figure size 432x288 with 2 Axes>"
      ]
     },
     "metadata": {
      "needs_background": "light"
     },
     "output_type": "display_data"
    }
   ],
   "source": [
    "X_train_scaled_bal4,y_train_scaled_bal4=classification_model(X,y,\"tomek applied\",\"unbalanced\",\"StandardScaler\",2)"
   ]
  },
  {
   "cell_type": "code",
   "execution_count": 119,
   "metadata": {},
   "outputs": [],
   "source": [
    "import pandas as pd\n",
    "import numpy as np\n",
    "\n",
    "from sklearn.datasets import load_boston\n",
    "from sklearn.tree import DecisionTreeRegressor\n",
    "from sklearn.model_selection import cross_val_score\n",
    "from sklearn.model_selection import train_test_split\n",
    "from sklearn.linear_model import LinearRegression\n",
    "from sklearn.neighbors import KNeighborsRegressor\n",
    "from sklearn.linear_model import LogisticRegression\n",
    "from sklearn.ensemble import RandomForestClassifier"
   ]
  },
  {
   "cell_type": "code",
   "execution_count": 132,
   "metadata": {},
   "outputs": [],
   "source": [
    "model1 = DecisionTreeClassifier()\n",
    "model2 = LogisticRegression(max_iter=300)\n"
   ]
  },
  {
   "cell_type": "code",
   "execution_count": 133,
   "metadata": {},
   "outputs": [
    {
     "name": "stdout",
     "output_type": "stream",
     "text": [
      "The rmse of the DecisionTreeClassifier model is (CV witk K=5) = 0.76 +/- 0.01\n",
      "The rmse of the LogisticRegression model is (CV witk K=5) = 0.82 +/- 0.01\n"
     ]
    }
   ],
   "source": [
    "model_pipeline = [model1, model2]\n",
    "model_names = ['DecisionTreeClassifier', 'LogisticRegression']\n",
    "\n",
    "\n",
    "def confidence_intervals(model_pipeline, model_names, X_train, y_train, alpha = 0.05, K = 10):\n",
    "# We set the significance level\n",
    "#alpha = 0.05\n",
    "#K = 10\n",
    "    scores = {}\n",
    "    i=0\n",
    "    for model in model_pipeline:\n",
    "        mean_score = np.mean(cross_val_score(model, X_train, y_train, cv=K))\n",
    "        if (K < 30):\n",
    "            # t.ppf(area) gives us the critical value corresponding to the area for the t-student distribution.\n",
    "            t_critical = abs(t.ppf(1-alpha/2, K-1)) \n",
    "            interval = t_critical*(np.std(cross_val_score(model, X_train, y_train, cv=K))/np.sqrt(K))\n",
    "        else:\n",
    "            # norm.ppf(area) gives us the critical value corresponding to the area for the normal distribution\n",
    "            z_critical = abs(norm.ppf(1-alpha/2)) \n",
    "            interval = z_critical*(np.std(cross_val_score(model, X_train, y_train, cv=K))/np.sqrt(K))\n",
    "        scores[model_names[i]] = [mean_score, mean_score - interval, mean_score + interval]\n",
    "        print(\"The rmse of the {} model is (CV witk K={}) = {:4.2f} +/- {:4.2f}\".format(model_names[i], K, mean_score, interval))\n",
    "        i = i+1\n",
    "\n",
    "confidence_intervals(model_pipeline, model_names, X_train_scaled_bal4, y_train_scaled_bal4, 0.05, 5)"
   ]
  },
  {
   "cell_type": "code",
   "execution_count": 136,
   "metadata": {},
   "outputs": [
    {
     "name": "stdout",
     "output_type": "stream",
     "text": [
      "The rmse of the DecisionTreeClassifier model is (CV witk K=5) = 0.74 +/- 0.02\n"
     ]
    },
    {
     "name": "stderr",
     "output_type": "stream",
     "text": [
      "C:\\Users\\Nickolaus Smith\\anaconda3\\lib\\site-packages\\sklearn\\linear_model\\_logistic.py:762: ConvergenceWarning: lbfgs failed to converge (status=1):\n",
      "STOP: TOTAL NO. of ITERATIONS REACHED LIMIT.\n",
      "\n",
      "Increase the number of iterations (max_iter) or scale the data as shown in:\n",
      "    https://scikit-learn.org/stable/modules/preprocessing.html\n",
      "Please also refer to the documentation for alternative solver options:\n",
      "    https://scikit-learn.org/stable/modules/linear_model.html#logistic-regression\n",
      "  n_iter_i = _check_optimize_result(\n",
      "C:\\Users\\Nickolaus Smith\\anaconda3\\lib\\site-packages\\sklearn\\linear_model\\_logistic.py:762: ConvergenceWarning: lbfgs failed to converge (status=1):\n",
      "STOP: TOTAL NO. of ITERATIONS REACHED LIMIT.\n",
      "\n",
      "Increase the number of iterations (max_iter) or scale the data as shown in:\n",
      "    https://scikit-learn.org/stable/modules/preprocessing.html\n",
      "Please also refer to the documentation for alternative solver options:\n",
      "    https://scikit-learn.org/stable/modules/linear_model.html#logistic-regression\n",
      "  n_iter_i = _check_optimize_result(\n"
     ]
    },
    {
     "name": "stdout",
     "output_type": "stream",
     "text": [
      "The rmse of the LogisticRegression model is (CV witk K=5) = 0.82 +/- 0.01\n"
     ]
    }
   ],
   "source": [
    "confidence_intervals(model_pipeline, model_names, X_train_scaled_bal2, y_train_scaled_bal2, 0.05, 5)"
   ]
  },
  {
   "cell_type": "code",
   "execution_count": null,
   "metadata": {},
   "outputs": [],
   "source": []
  }
 ],
 "metadata": {
  "kernelspec": {
   "display_name": "Python 3",
   "language": "python",
   "name": "python3"
  },
  "language_info": {
   "codemirror_mode": {
    "name": "ipython",
    "version": 3
   },
   "file_extension": ".py",
   "mimetype": "text/x-python",
   "name": "python",
   "nbconvert_exporter": "python",
   "pygments_lexer": "ipython3",
   "version": "3.8.5"
  }
 },
 "nbformat": 4,
 "nbformat_minor": 4
}
